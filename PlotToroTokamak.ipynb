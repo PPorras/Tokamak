{
 "cells": [
  {
   "cell_type": "code",
   "execution_count": 4,
   "metadata": {},
   "outputs": [
    {
     "data": {
      "text/plain": [
       "\"ParamTorus0.004.txt\""
      ]
     },
     "execution_count": 4,
     "metadata": {},
     "output_type": "execute_result"
    }
   ],
   "source": [
    "using Plots, LaTeXStrings\n",
    "#using Dierckx\n",
    "#using PyPlot\n",
    "#include(\"Auxiliary-Functions.jl\")\n",
    "titleFile = \"ParamTorus0.004.txt\""
   ]
  },
  {
   "cell_type": "code",
   "execution_count": 5,
   "metadata": {},
   "outputs": [
    {
     "name": "stdout",
     "output_type": "stream",
     "text": [
      "262144\n"
     ]
    }
   ],
   "source": [
    "f = open(titleFile)\n",
    "headed = parse.(Float64, split(readline(f), \" \"))\n",
    "headed = parse.(Float64, split(readline(f), \" \"))\n",
    "headed = parse.(Float64, split(readline(f), \" \"))\n",
    "headed = parse.(Float64, split(readline(f), \" \"))\n",
    "headed = parse.(Float64, split(readline(f), \" \"))\n",
    "headed = parse.(Float64, split(readline(f), \" \"))\n",
    "n, m = Int64(headed[1]), Int(headed[2])\n",
    "len = n*m\n",
    "println(len)\n",
    "\n",
    "dataFile = zeros(len, 4)\n",
    "i = 1\n",
    "\n",
    "while i <= len\n",
    "\n",
    "    aux = parse.(Float64, split(readline(f), \" \"))\n",
    "    dataFile[i, :]  = aux\n",
    "    global i = i + 1\n",
    "end\n",
    "\n",
    "close(f)"
   ]
  },
  {
   "cell_type": "code",
   "execution_count": 7,
   "metadata": {},
   "outputs": [],
   "source": [
    "xp = ((2π*dataFile[:,1])/n) .+ dataFile[:,3]\n",
    "yp = ((2π*dataFile[:,2])/m)\n",
    "zp = dataFile[:,4];"
   ]
  },
  {
   "cell_type": "code",
   "execution_count": null,
   "metadata": {},
   "outputs": [],
   "source": [
    "surface(xp,yp,zp)"
   ]
  },
  {
   "cell_type": "code",
   "execution_count": null,
   "metadata": {},
   "outputs": [],
   "source": []
  }
 ],
 "metadata": {
  "kernelspec": {
   "display_name": "Julia 1.0.3",
   "language": "julia",
   "name": "julia-1.0"
  },
  "language_info": {
   "file_extension": ".jl",
   "mimetype": "application/julia",
   "name": "julia",
   "version": "1.0.3"
  }
 },
 "nbformat": 4,
 "nbformat_minor": 4
}
